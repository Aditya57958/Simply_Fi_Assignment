{
  "nbformat": 4,
  "nbformat_minor": 0,
  "metadata": {
    "colab": {
      "provenance": []
    },
    "kernelspec": {
      "name": "python3",
      "display_name": "Python 3"
    },
    "language_info": {
      "name": "python"
    }
  },
  "cells": [
    {
      "cell_type": "code",
      "execution_count": 2,
      "metadata": {
        "id": "qbu7fp9IbphK"
      },
      "outputs": [],
      "source": [
        "#Q) Write a python code for converting integer values to Indian currency notations, without\n",
        "#using the currency libraries\n",
        "#Example:\n",
        "#input: 504678"
      ]
    },
    {
      "cell_type": "code",
      "source": [
        "# Python Code for Indian currency\n",
        "def convert_to_indian_currency(n):\n",
        "    n_str = str(n)\n",
        "    n_str = n_str[::-1]\n",
        "    result = \"\"\n",
        "    for i in range(0, len(n_str), 2):\n",
        "      value = n_str[i:i+2]\n",
        "      result += value + \",\"\n",
        "    result = result[::-1]\n",
        "    return result.rstrip(',')\n",
        "n = 504678\n",
        "output_value = convert_to_indian_currency(n)\n",
        "print(output_value)\n"
      ],
      "metadata": {
        "colab": {
          "base_uri": "https://localhost:8080/"
        },
        "id": "R3xLGL9CcFg-",
        "outputId": "ddbdd37c-139a-4a39-857d-ec4a6edd68e7"
      },
      "execution_count": 7,
      "outputs": [
        {
          "output_type": "stream",
          "name": "stdout",
          "text": [
            ",50,46,78\n"
          ]
        }
      ]
    },
    {
      "cell_type": "markdown",
      "source": [
        "1)The convert_to_indian_currency function takes an integer value as input.\n",
        "\n",
        "2)It converts the input value to a string and reverses it for easier processing.\n",
        "\n",
        "3)It initializes an empty result string to store the converted value.\n",
        "\n",
        "4)It iterates over the reversed string in groups of two digits using a for loop.\n",
        "\n",
        "5)ithin each iteration, it retrieves the current two digits from the string.\n",
        "\n",
        "6)It appends the two digits to the result string, followed by a comma.\n",
        "\n",
        "7)After the loop completes, the result string is reversed again to restore the original order.\n",
        "\n",
        "9)Any trailing comma is removed from the result string using the rstrip() function.\n",
        "\n",
        "10)Finally, the function returns the converted value."
      ],
      "metadata": {
        "id": "CqNxc1t4d-Y2"
      }
    },
    {
      "cell_type": "code",
      "source": [
        "# Question_2)"
      ],
      "metadata": {
        "id": "_0KPktrAe89J"
      },
      "execution_count": null,
      "outputs": []
    },
    {
      "cell_type": "markdown",
      "source": [
        "Question 2\n",
        "You won’t get caught if you hide behind someone.”\n",
        "Sang-Woo advises Gi-Hun to hide behind someone to avoid getting shot.\n",
        "Gi-Hun follows Sang-Woo's advice and hides behind Ali, who saved his life earlier. Gi-Hun and Ali\n",
        "both have the same height, K\n",
        ". Many players saw this trick and also started hiding behind Ali.\n",
        "Now, there are N\n",
        "players standing between Gi-Hun and Ali in a straight line, with the ith player having height Hi\n",
        ". Gi-Hun wants to know the minimum number of players who need to get shot so that Ali is visible\n",
        "in his line of sight.\n",
        "Note:\n",
        "• Line of sight is a straight line drawn between the topmost point of two objects. Ali is visible\n",
        "to Gi-Hun if nobody between them crosses this line.\n",
        "• Even if there are some players who have the same height as that of Gi-Hun and Ali, Ali will\n",
        "be visible in Gi-Hun's line of sight.\n",
        "• Gi-Hun and Ali have the same height.\n",
        "Input Format\n",
        "• The first line of input contains a single integer T\n",
        ", denoting the number of test cases. The description of T\n",
        "• test cases follows.\n",
        "• The first line of each test case contains two space-separated integers N and K\n",
        "• , denoting the total number of players between Gi-Hun and Ali and the height of both of\n",
        "them respectively.\n",
        "• The second line of each test case contains N\n",
        "• space-separated integers, denoting the heights of the players between Gi-Hun and Ali.\n",
        "Output Format\n",
        "For each test case, output in a single line the minimum number of players who need to get shot so\n",
        "that Ali is visible in Gi-Hun's line of sight.\n",
        "Constraints\n",
        "• 1≤T≤105\n",
        "• 1≤N≤105\n",
        "• 1≤K≤106\n",
        "• 1≤Hi≤106 for every 1≤i≤N\n",
        "• .\n",
        "• The sum of N across all test cases does not exceed 5⋅105\n",
        "• .\n",
        "Sample Input 1\n",
        "3\n",
        "4 10\n",
        "2 13 4 16\n",
        "5 8\n",
        "9 3 8 8 4\n",
        "4 6\n",
        "1 2 3 4\n",
        "Sample Output 1\n",
        "2\n",
        "1\n",
        "0\n",
        "Explanation\n",
        "Test Case 1: Gi-Hun and Ali have height 10\n",
        ". For Ali to be visible to Gi-Hun, the second person (with height 13) and the fourth person (with\n",
        "height 16) need to get shot. Hence, the minimum number of players who need to get shot is 2\n",
        ".\n",
        "Test Case 2: Gi-Hun and Ali have height 8\n",
        ". For Ali to be visible to Gi-Hun, the first person (with height 9) needs to get shot. Hence, the\n",
        "minimum number of players who need to get shot is 1\n",
        ".\n",
        "Test Case 3: Nobody needs to get shot because everyone is shorter than Gi-Hun and Ali"
      ],
      "metadata": {
        "id": "aHs_3863fKTl"
      }
    },
    {
      "cell_type": "code",
      "source": [
        "def minimum_shots(T, test_cases):\n",
        "    results = []\n",
        "\n",
        "    for _ in range(T):\n",
        "        N, K = test_cases[_][0]\n",
        "        heights = test_cases[_][1]\n",
        "\n",
        "        shots = 0\n",
        "        max_height = 0\n",
        "\n",
        "        for height in heights:\n",
        "            if height >= K:\n",
        "                shots += 1\n",
        "                max_height = max(max_height, height)\n",
        "            else:\n",
        "                if height > max_height:\n",
        "                    shots = 0\n",
        "\n",
        "        results.append(shots)\n",
        "\n",
        "    return results\n",
        "\n",
        "\n",
        "# Read the number of test cases\n",
        "T = int(input())\n",
        "\n",
        "test_cases = []\n",
        "for _ in range(T):\n",
        "    # Read the number of players and the height\n",
        "    N, K = map(int, input().split())\n",
        "\n",
        "    # Read the heights of the players\n",
        "    heights = list(map(int, input().split()))\n",
        "\n",
        "    # Store the test case\n",
        "    test_cases.append((N, K, heights))\n",
        "\n",
        "# Compute the minimum shots for each test case\n",
        "output = minimum_shots(T, test_cases)\n",
        "\n",
        "# Print the results\n",
        "for result in output:\n",
        "    print(result)\n"
      ],
      "metadata": {
        "id": "9CZp0kJnfhIJ"
      },
      "execution_count": null,
      "outputs": []
    },
    {
      "cell_type": "code",
      "source": [],
      "metadata": {
        "id": "pSxPg_1igtk6"
      },
      "execution_count": null,
      "outputs": []
    }
  ]
}